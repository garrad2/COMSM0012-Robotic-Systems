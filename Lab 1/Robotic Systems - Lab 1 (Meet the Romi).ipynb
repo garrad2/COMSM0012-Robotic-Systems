{
 "cells": [
  {
   "cell_type": "markdown",
   "metadata": {
    "button": false,
    "deletable": true,
    "run_control": {
     "read_only": false
    }
   },
   "source": [
    "<h1> Lab 1 - Meet the ROMI</h1>"
   ]
  },
  {
   "cell_type": "markdown",
   "metadata": {
    "button": false,
    "deletable": true,
    "run_control": {
     "read_only": false
    }
   },
   "source": [
    "<table>\n",
    "<td><img src=\"romi.jpg\" height=300 width=300/>\n",
    "<td><img src=\"Romi_Control.jpg\" height=300 width=300/>\n",
    "</table>"
   ]
  },
  {
   "cell_type": "markdown",
   "metadata": {
    "button": false,
    "deletable": true,
    "run_control": {
     "read_only": false
    }
   },
   "source": [
    "In this lab session, you will get to know the Romi robot that you will be using throughout these labs and for the coursework assessments. Specifically, you will:\n",
    "    + See the standard Arduino sketch, which has the structure of setup() and loop() routines.\n",
    "    + Experiment with Arduino Example sketches\n",
    "    + Upload sketches to your Romi robot.\n",
    "    + Experiment with Serial commands to view debug output from your code.\n",
    "    + (Optional) Use a Serial parser to read input\n",
    "\n",
    "\n",
    "The Romi is a <i>differential drive</i> robot from Pololu. This means it has two motors (1 per wheel) and turns by moving the motors at different speeds (or the same, if you want it to go forwards or backwards). It is controlled by an ATMEL ATMEGA32u4 Microcontroller, which is included on the integrated 32u4 Control board, also by Polulu. "
   ]
  },
  {
   "cell_type": "markdown",
   "metadata": {
    "button": false,
    "deletable": true,
    "run_control": {
     "read_only": false
    }
   },
   "source": [
    "You can find a full reference documentation for the Romi on the Polulu website [here](https://www.pololu.com/docs/0J69). \n",
    "The 32u4 is the same Microcontroller used on the Arduino Leonardo board, meaning we can program it using the Arduino IDE. Other methods of uploading code are available, but will not be supported in this course. The arduino IDE is pre-installed on all lab machines (alongside the necessary drivers). If you wish to install the necessary software on your own machine, there is a guide [here](https://www.pololu.com/docs/0J69/5)"
   ]
  },
  {
   "cell_type": "markdown",
   "metadata": {
    "button": false,
    "deletable": true,
    "run_control": {
     "read_only": false
    }
   },
   "source": [
    "<h4>Aside</h4>\n",
    "This course has a large number of students, meaning a wide variety of backgrounds and experience levels. Most lab worksheets for this course will consist of 5 exercises, numbered 1-5. Our expectation is that <b>most</b> students will start with exercise 1 or 2 and complete the majority of exercises 2-4 within the lab session. Exercise 1 is designed to provide a gentle introduction to the lab for those students who are less confident with the material being covered. Exercise 5 is designed to provide a more challenging exercise for those students who are already familiar with the topic being covered. As this is a Master's level course, we expect you to use your own judgement about which exercises are valuable learning experiences for you.\n",
    "\n",
    "We assume some familiarity with basic programming in this course - if you have programmed in another language and are new to C/C++, we believe these materials should serve as a suitable introduction to C++ (for microcontrollers). If you have never programmed before, we recommend you follow one of the many introductory courses online and seek support (Perhaps in the MSc Robotics Dropin session). If you have used C/C++ before, but not programmed a micro-controller before, that will almost certainly be sufficient background. You could however, look at the Arduino Programming language reference [here](https://www.arduino.cc/en/Reference/HomePage?from=Reference.Extended)."
   ]
  },
  {
   "cell_type": "markdown",
   "metadata": {
    "button": false,
    "deletable": true,
    "run_control": {
     "read_only": false
    }
   },
   "source": [
    "<h2> Exercise 1: Uploading code</h2>"
   ]
  },
  {
   "cell_type": "markdown",
   "metadata": {
    "button": false,
    "deletable": true,
    "run_control": {
     "read_only": false
    }
   },
   "source": [
    "In this exercise, we will see our first piece of code, try to understand its parts, and upload it to the Romi control board. "
   ]
  },
  {
   "cell_type": "markdown",
   "metadata": {
    "button": false,
    "deletable": true,
    "run_control": {
     "read_only": false
    }
   },
   "source": [
    "The Atmega 32u4 and similar processors (such as the Atmega328p used in the Arduini Uno) can be programmed in C/C++.  This code can be transferred from your PC to the Romi via USB with the Arduino IDE\n",
    "\n",
    "1. Open the Arduino IDE (Integrated Development Environment) from the start menu\n",
    "2. Select File --> Examples --> 01.Basics --> Blink\n",
    "\n",
    "You should see the following code"
   ]
  },
  {
   "cell_type": "raw",
   "metadata": {
    "button": false,
    "deletable": true,
    "run_control": {
     "read_only": false
    }
   },
   "source": [
    "/*\n",
    "  Blink\n",
    "\n",
    "  Turns an LED on for one second, then off for one second, repeatedly.\n",
    "\n",
    "  Most Arduinos have an on-board LED you can control. On the UNO, MEGA and ZERO\n",
    "  it is attached to digital pin 13, on MKR1000 on pin 6. LED_BUILTIN is set to\n",
    "  the correct LED pin independent of which board is used.\n",
    "  If you want to know what pin the on-board LED is connected to on your Arduino\n",
    "  model, check the Technical Specs of your board at:\n",
    "  https://www.arduino.cc/en/Main/Products\n",
    "\n",
    "  modified 8 May 2014\n",
    "  by Scott Fitzgerald\n",
    "  modified 2 Sep 2016\n",
    "  by Arturo Guadalupi\n",
    "  modified 8 Sep 2016\n",
    "  by Colby Newman\n",
    "\n",
    "  This example code is in the public domain.\n",
    "\n",
    "  http://www.arduino.cc/en/Tutorial/Blink\n",
    "*/\n",
    "\n",
    "// the setup function runs once when you press reset or power the board\n",
    "void setup() {\n",
    "  // initialize digital pin LED_BUILTIN as an output.\n",
    "  pinMode(LED_BUILTIN, OUTPUT);\n",
    "}\n",
    "\n",
    "// the loop function runs over and over again forever\n",
    "void loop() {\n",
    "  digitalWrite(LED_BUILTIN, HIGH);   // turn the LED on (HIGH is the voltage level)\n",
    "  delay(1000);                       // wait for a second\n",
    "  digitalWrite(LED_BUILTIN, LOW);    // turn the LED off by making the voltage LOW\n",
    "  delay(1000);                       // wait for a second\n",
    "}"
   ]
  },
  {
   "cell_type": "markdown",
   "metadata": {
    "button": false,
    "deletable": true,
    "run_control": {
     "read_only": false
    }
   },
   "source": [
    "The code above is a set of instructions to the microcontroller. Let's break this down a little bit. The code between lines 1 and 23 is enclosed by '/*' and '*/' and is known as a <i>comment</i>. This is not an instruction to the microcontroller, but text left by the developer to help others understand the code. Comments may also be marked by a double slash '//'. \n",
    "\n",
    "At the highest level, we can view the code that runs on the Romi as composed of two parts. First, we have the setup code which is ran when the Romi is first powered on. This code should be written in the setup() function. Next, we have the main loop. The code in this function is run repeatedly; once it has finished executing, the controller will return to the start of the function and begin again. This code should be written in the loop() function. \n",
    "\n",
    "<img src=\"Arduino Code Flow.png\"/>\n",
    "\n",
    "Starting on line 26 (and below another comment), we have the setup function. The code contained in this function is run once, when the Romi is turned on. This function contains a single line:\n",
    "\n",
    "`pinMode(LED_BUILTIN, HIGH);`\n",
    "\n",
    "A Microcontroller such as the Atmega32u4 contains a number of pins, some of which can be configured as either an input or an output. See [here](https://www.arduino.cc/en/Tutorial/DigitalPins) for further details. This line calls the function pinMode with two arguments: the first, LED_BUILTIN refers to a pin connected to a built in LED on the Romi board. In this case, it is the Orange LED on the left hand side of the board (Also known as Pin 13). The second argument enables a built-in pull up resistor connected to the LED_PIN (See [here](https://en.wikipedia.org/wiki/Pull-up_resistor) for further information about pull up resistors). \n",
    "\n",
    "<img src=\"Romi_control_top_view.jpg\"/>"
   ]
  },
  {
   "cell_type": "markdown",
   "metadata": {
    "button": false,
    "deletable": true,
    "run_control": {
     "read_only": false
    }
   },
   "source": [
    "Next, we have the main loop. This function will be called repeatedly by the Microcontroller. In this case, we first see the line:\n",
    "\n",
    "`digitalWrite(LED_BUILTIN, HIGH);`\n",
    "\n",
    "This tells the microcontroller to set the voltage of the LED_BUILTIN pin to be high (5V in this case). This causes current to flow through the LED, turning it on. Next we have the line:\n",
    "\n",
    "`delay(1000);`\n",
    "\n",
    "This tells the microcontroller to wait for 1000 milliseconds. Next, we set the LED_BUILTIN pin low (turning off the LED), before delaying for another second. After this instruction has finished, the program returns to the beginning of the loop() function and turns the LED on again.  As this happens repetitively, we should see the LED flash at a frequency of 0.5 Hz."
   ]
  },
  {
   "cell_type": "markdown",
   "metadata": {
    "button": false,
    "deletable": true,
    "run_control": {
     "read_only": false
    }
   },
   "source": [
    "To upload this code to the Romi, you must first tell the IDE which type of microcontroller you wish to upload code to. To do this, select: \n",
    "\n",
    "    Tools --> Board --> Arduino Leonardo. \n",
    "\n",
    "Next, you must tell the IDE which serial port the arduino is connected to. To do this, select:\n",
    "\n",
    "    Tools --> Port --> COM X (Arduino Leonardo)\n",
    "\n",
    "Note: If this is the first time a Romi has plugged into your particular lab machine, you may not any serial ports tagged as \"Arduino Leonardo\". In this case, try uploading code to the COM ports you do see in sequence. When you select the correct port, you will see a pop-up which says \"Installing Pololu Bootloader\". From then on, you should see the correct COM port labelled with \"Arduino Leonardo\". \n",
    "\n",
    "Once you have selected the correct board and serial port you can either press `Ctrl-U` or the upload code button (The Arrow point to the right in the top left hand corner of the IDE).   "
   ]
  },
  {
   "cell_type": "markdown",
   "metadata": {
    "button": false,
    "deletable": true,
    "run_control": {
     "read_only": false
    }
   },
   "source": [
    "<h3> Tasks</h3>\n",
    "1. Upload the Blink sketch to the 32u4\n",
    "2. Change the frequency of the LED flash to 5 Hz. \n"
   ]
  },
  {
   "cell_type": "markdown",
   "metadata": {
    "button": false,
    "deletable": true,
    "run_control": {
     "read_only": false
    }
   },
   "source": [
    "<h3> Exercise 2: Variables and Scope</h3>\n",
    "\n",
    "In this exercise, we will modify the Blink example to count the number of times the LED has flashed since the Romi was turned on. This will introduce us to the important concepts of variables, data type and scope.\n",
    "\n",
    "In C++, data is stored in the memory of your Micro-processor. You can use this memory in your program by declaring a <i>variable</i>. For example, we might want to use a variable to store the number of times our LED has flashed. To do so, we could change our code to be as follows:\n"
   ]
  },
  {
   "cell_type": "raw",
   "metadata": {
    "button": false,
    "deletable": true,
    "run_control": {
     "read_only": false
    }
   },
   "source": [
    "int number_of_led_flashes = 0;\n",
    "\n",
    "// the setup function runs once when you press reset or power the board\n",
    "void setup() {\n",
    "  // initialize digital pin LED_BUILTIN as an output.\n",
    "  pinMode(LED_BUILTIN, OUTPUT);\n",
    "}\n",
    "\n",
    "// the loop function runs over and over again forever\n",
    "void loop() {\n",
    "  digitalWrite(LED_BUILTIN, HIGH);   // turn the LED on (HIGH is the voltage level)\n",
    "  delay(1000);                       // wait for a second\n",
    "  digitalWrite(LED_BUILTIN, LOW);    // turn the LED off by making the voltage LOW\n",
    "  delay(1000);                       // wait for a second\n",
    "}"
   ]
  },
  {
   "cell_type": "markdown",
   "metadata": {
    "button": false,
    "deletable": true,
    "run_control": {
     "read_only": false
    }
   },
   "source": [
    "Here, on line one, we have created a variable of <i>type</i> int, called \"number_of_led_flashes\" and set its value to be 0. Whenever we declare a variable in C++, we must follow this pattern of writing:\n",
    "\n",
    "   ` <type> <name>;`\n",
    "   \n",
    "   or\n",
    "   \n",
    "   ` <type> <name> = value;`\n",
    "\n",
    "   \n",
    "The type of a variable tells the microprocessor what kind of information is stored in the variable. Common examples include:\n",
    "     \n",
    "     + int : Used to store whole numbers. On the 32u4 microprocessor, an int is 16 bits (2 bytes) and represents numbers between -2^15 and 2^15-1 (-32,768 to 32,767). Note that you may also see an unsigned integer, which uses 2 bytes to represent positive numbers only (Giving a range of 0 to 65,535). Note also that if you try to store a fractional number in an integer, the part after the decimal point will be rounded down (IE Both 3.14159 and 3.9999 will be stored as 3). \n",
    "     \n",
    "     + float : Used to store numbers that have a decimal point. (IE 3.14159). On the 32u4, floats are stored as 4 bytes and can take values ranging from 3.4028235E+38 to -3.4028235E+38. Note that due to the way floats are stored, arithmetic operations on floats may give unexpected results. For example, 6.0 / 3.0 may not be exactly equal to 2.0. Good practice when comparing floating point numbers is not to check whether they are exactly equal (with ==), but to check if the difference between them is below a threshold. \n",
    "     \n",
    "     + bool : A boolean can be either True (1) or False (0). On the 32u4, a boolean uses 1 byte.\n",
    "     \n",
    "     + byte : A byte is also used to store whole numbers (like an int), but as it only uses a single byte (8 bits), and can only represent values between 0 and 255.\n",
    "     \n",
    "     + char : A char is the same as a signed byte (IE it can represent values between -128 and 127). The name Char comes from the fact that Chars are often used to represent letters, using the ASCII encoding (details [here](https://www.arduino.cc/en/Reference/ASCIIchart). \n",
    "     \n",
    "\n",
    " "
   ]
  },
  {
   "cell_type": "markdown",
   "metadata": {
    "button": false,
    "deletable": true,
    "run_control": {
     "read_only": false
    }
   },
   "source": [
    "However, the <i>type</i> of a variable is not the only thing we must consider when declaring a variable. We must also consider the <i>scope</i> of the variable. Scope defines where a variable can be used. In C/C++, scope is indicated by a pair of curly brackets `{}` - you will see these used when we define functions, if-then-else statements and loops. Note that it is possible to nest scope. For exampe, we might write:\n"
   ]
  },
  {
   "cell_type": "raw",
   "metadata": {
    "button": false,
    "deletable": true,
    "run_control": {
     "read_only": false
    }
   },
   "source": [
    "This is the global scope\n",
    "\n",
    "void setup()\n",
    "{\n",
    "    This is the scope local to the setup function\n",
    "    if (condition)\n",
    "    {\n",
    "    This is the scope local to the if-then-else statement of the setup function\n",
    "    }\n",
    "    Here we have returned to the scope local to the setup function\n",
    "}\n",
    "\n",
    "Now we are back to global scope\n",
    "\n",
    "void loop()\n",
    "{\n",
    "    This is the scope local to the loop function\n",
    "\n",
    "    if (condition)\n",
    "    {\n",
    "    This is the scope local to the if-then-else statement of the loop function\n",
    "    }\n",
    "    Here we have returned to the scope local to the loop function\n",
    "}\n",
    "Now we are back to global scope again"
   ]
  },
  {
   "cell_type": "markdown",
   "metadata": {
    "button": false,
    "deletable": true,
    "run_control": {
     "read_only": false
    }
   },
   "source": [
    "When we declare a variable it can ONLY be used in the scope it is declared in and LOWER scopes. We can NOT use a variable from a lower scope in a higher scope. For example, if we write:\n"
   ]
  },
  {
   "cell_type": "raw",
   "metadata": {
    "button": false,
    "deletable": true,
    "run_control": {
     "read_only": false
    }
   },
   "source": [
    "int a; //This is a global variable\n",
    "\n",
    "void setup()\n",
    "{\n",
    "    int b; //This is a local variable\n",
    "}\n",
    "\n",
    "void loop()\n",
    "{\n",
    "    int c;\n",
    "}"
   ]
  },
  {
   "cell_type": "markdown",
   "metadata": {
    "button": false,
    "deletable": true,
    "run_control": {
     "read_only": false
    }
   },
   "source": [
    "Then we can use the variable a in both the setup and the loop functions. We can use the variable b ONLY in the setup function and variable c ONLY in the setup function. If we try to use a variable in a scope in which it does not exist, then we will get a compile error. For example, if I was to then write:\n",
    "\n"
   ]
  },
  {
   "cell_type": "raw",
   "metadata": {
    "button": false,
    "deletable": true,
    "run_control": {
     "read_only": false
    }
   },
   "source": [
    "int a; //This is a global variable\n",
    "\n",
    "void setup()\n",
    "{\n",
    "    int b; //This is a local variable\n",
    "}\n",
    "\n",
    "void loop()\n",
    "{\n",
    "    int c;\n",
    "    b = 1;\n",
    "}"
   ]
  },
  {
   "cell_type": "markdown",
   "metadata": {
    "button": false,
    "deletable": true,
    "run_control": {
     "read_only": false
    }
   },
   "source": [
    "when I compile this, I get the error: "
   ]
  },
  {
   "cell_type": "markdown",
   "metadata": {
    "button": false,
    "deletable": true,
    "run_control": {
     "read_only": false
    }
   },
   "source": [
    "`\\\\ads.bris.ac.uk\\filestore\\myfiles\\students\\mg13730\\Desktop\\test\\test.ino: In function 'void loop()':`\n",
    "\n",
    "`test:9: error: 'b' was not declared in this scope`\n",
    "\n",
    "   `b = 1;`\n",
    "\n",
    "   `^`\n",
    "\n",
    "`exit status 1`\n",
    "`'b' was not declared in this scope`"
   ]
  },
  {
   "cell_type": "markdown",
   "metadata": {
    "button": false,
    "deletable": true,
    "run_control": {
     "read_only": false
    }
   },
   "source": [
    "Compile errors like this often look scary (and can be frustrating!), but in fact this error gives us a lot of information. The first line tells us the name of the file where the error was found (test.ino) AND the function (void loop()). The next line tells us the exact line of code where the problem is (Line 9) and the specific error ('b' was not declared in this scope). The next line shows us the line which causes the problem (b=1;). The final line tells us that the exist status of the compiler was 1 (Which means error) and repeats the specific error. \n",
    "\n",
    "<h6> Task </h6>\n",
    "    1. Add code to the main loop which stops the LED from flashing after 10 flashes.\n",
    "    \n",
    "Hint: You probably want to use an IF-THEN-ELSE statement to do this. You can find more information about the syntax for this [here](https://www.arduino.cc/reference/en/language/structure/control-structure/if/). You should first add code to the main loop to count the number of times the LED has flashed and move the code which makes it flash into a IF-THEN-ELSE statement. If you are struggling with this exercise, please let us know!\n",
    "\n"
   ]
  },
  {
   "cell_type": "markdown",
   "metadata": {
    "button": false,
    "deletable": true,
    "run_control": {
     "read_only": false
    }
   },
   "source": [
    "<h1>Exercise 3: Using functions</h1> \n",
    "\n",
    "In the previous two exercises, we used the word `function` multiple times without really defining what it means. In essence, a function is a way of organising code by separating it into blocks of code which together perform a single task. We have already seen two functions - setup and loop. We can define our own functions by writing:"
   ]
  },
  {
   "cell_type": "raw",
   "metadata": {
    "button": false,
    "deletable": true,
    "run_control": {
     "read_only": false
    }
   },
   "source": [
    "function_type function_name (variable_type_1 variable_name_1, variable_type_2 variable_name_2, ...)\n",
    "{\n",
    "    \\\\Code goes here\n",
    "    \n",
    "    return value \\\\This (optional) line ends the function and passes the value back to where the function was called\n",
    "}"
   ]
  },
  {
   "cell_type": "markdown",
   "metadata": {
    "button": false,
    "deletable": true,
    "run_control": {
     "read_only": false
    }
   },
   "source": [
    "If we start from the bottom, the function ends with the block `{}`. This is where we actually write the code that the function executes. Above that, we have the function call definition. Starting from the right, in the round brackets `()`, we have a list of variables (defined just as in regular code). These are variables that can be used to pass information into the function from another scope. Next, we have the name of the function. Finally, we have the function_type. This defines the type of data that is returned by the function; when we call a function, it can optionally return a value to the part of the code where it was called from. For example, we might write a function called `blink_leds` which turns the LEDs on and then off again. To do so, we would first write:"
   ]
  },
  {
   "cell_type": "raw",
   "metadata": {
    "button": false,
    "deletable": true,
    "run_control": {
     "read_only": false
    }
   },
   "source": [
    "void flash_leds ()\n",
    "{\n",
    "  digitalWrite(LED_BUILTIN, HIGH);   // turn the LED on (HIGH is the voltage level)\n",
    "  delay(1000);                       // wait for a second\n",
    "  digitalWrite(LED_BUILTIN, LOW);    // turn the LED off by making the voltage LOW\n",
    "  delay(1000); \n",
    "}"
   ]
  },
  {
   "cell_type": "markdown",
   "metadata": {
    "button": false,
    "deletable": true,
    "run_control": {
     "read_only": false
    }
   },
   "source": [
    "Note that we have used a new data type here (`void`). This means that our function does not return a value. We then need to change the code in our loop to use this function instead. The rest of our code then changes to use this function:\n"
   ]
  },
  {
   "cell_type": "raw",
   "metadata": {
    "button": false,
    "deletable": true,
    "run_control": {
     "read_only": false
    }
   },
   "source": [
    "void flash_leds ()\n",
    "{\n",
    "  digitalWrite(LED_BUILTIN, HIGH);   // turn the LED on (HIGH is the voltage level)\n",
    "  delay(1000);                       // wait for a second\n",
    "  digitalWrite(LED_BUILTIN, LOW);    // turn the LED off by making the voltage LOW\n",
    "  delay(1000); \n",
    "}\n",
    "\n",
    "// the setup function runs once when you press reset or power the board\n",
    "void setup()\n",
    "{\n",
    "  // initialize digital pin LED_BUILTIN as an output.\n",
    "  pinMode(LED_BUILTIN, OUTPUT);\n",
    "}\n",
    "\n",
    "// the loop function runs over and over again forever\n",
    "void loop()\n",
    "{\n",
    "  flash_leds();                     // wait for a second\n",
    "}"
   ]
  },
  {
   "cell_type": "markdown",
   "metadata": {
    "button": false,
    "deletable": true,
    "run_control": {
     "read_only": false
    }
   },
   "source": [
    "As we discussed above, we can also pass information into a function by giving it some input variables. For example, we might want to make a variable for controlling the rate at which the LED flashes. To do so, we would change our flash_led function as follows:"
   ]
  },
  {
   "cell_type": "raw",
   "metadata": {
    "button": false,
    "deletable": true,
    "run_control": {
     "read_only": false
    }
   },
   "source": [
    "void flash_leds (int delay_ms)\n",
    "{\n",
    "  digitalWrite(LED_BUILTIN, HIGH);   // turn the LED on (HIGH is the voltage level)\n",
    "  delay(delay_ms);                       // wait for a second\n",
    "  digitalWrite(LED_BUILTIN, LOW);    // turn the LED off by making the voltage LOW\n",
    "  delay(delay_ms); \n",
    "}"
   ]
  },
  {
   "cell_type": "markdown",
   "metadata": {
    "button": false,
    "deletable": true,
    "run_control": {
     "read_only": false
    }
   },
   "source": [
    "We can then change line that reads `flash_leds();` to `flash_leds(1000)` to make the LED flash at 0.5 Hz as before. \n",
    "\n",
    "As well as passing information into a function, we may also want to get it back from a function. To do this, we must set the function_type to match the kind of data we want to return and then end our function with the line `return (value)`. For example, we might want to write a function which calculates the sum of two numbers. To do so, we would first need to decide what type of numbers we want to add (ints or floats). If we assume we only want to add floats, then we could write:"
   ]
  },
  {
   "cell_type": "raw",
   "metadata": {
    "button": false,
    "deletable": true,
    "run_control": {
     "read_only": false
    }
   },
   "source": [
    "int add_two_numbers(int number1, int number2)\n",
    "{\n",
    "    return number1+number2;\n",
    "}"
   ]
  },
  {
   "cell_type": "markdown",
   "metadata": {
    "button": false,
    "deletable": true,
    "run_control": {
     "read_only": false
    }
   },
   "source": [
    "If we then add the following code somewhere else:"
   ]
  },
  {
   "cell_type": "raw",
   "metadata": {
    "button": false,
    "deletable": true,
    "run_control": {
     "read_only": false
    }
   },
   "source": [
    "... //Other code goes here\n",
    "int a;\n",
    "a = add_two_numbers_1, 2);\n",
    "... //Other codes goes here"
   ]
  },
  {
   "cell_type": "markdown",
   "metadata": {
    "button": false,
    "deletable": true,
    "run_control": {
     "read_only": false
    }
   },
   "source": [
    "The variable a will have the value 3. "
   ]
  },
  {
   "cell_type": "markdown",
   "metadata": {
    "button": false,
    "deletable": true,
    "run_control": {
     "read_only": false
    }
   },
   "source": [
    "<h3> Tasks </h3>\n",
    "To practice using functions, we will write a function to control the Buzzer on the 32u4 control board. The Buzzer is connected to one of the pins controlled by the 32u4. Before we can use the buzzer, we must configure this pin as an output\n",
    "\n",
    "    1. Using the Romi datasheet, find which pin is connected to the Buzzer and set it to an output. This code should be added to the `setup()` function\n",
    "    \n",
    "Hint: We saw how to set a pin as an output earlier in this sheet\n",
    "\n",
    "Next, we will write a function that lets us control the power and duration of the Buzzer. To begin with, we will write the defintion of our function:\n",
    "\n",
    "`void play_tone(int volume)`\n",
    "\n",
    "Here, we have declared a function of type  void (meaning it doesn't return anything), with one input argument: An integer (called volume). This means that when we call the function, we need to provide it with one value. This value will be passed into the function, and can be used in the code that defines the function. We can set the power of the Buzzer by using the `analogWrite(PIN, <0-255>)` function. This function creates a PWM signal on the pin, with a duty factor between 0 (If we set the second argument to 0) and 1 (if we set the second argument to 255). We will look at PWM signals in more detail in lab 2, so don't worry  if you are unsure what this means - for now, we just need to now that if we set 0, we will get a low volume, if we set 255, we will get a high volume, and we can get volumes in the middle of these, by setting numbers between 0 and 255. Below, we have sketched an outline of the play_tone function. \n",
    "\n",
    "    2. Complete the function\n",
    "    3. Add a second argument that lets us control the duration of the tone"
   ]
  },
  {
   "cell_type": "raw",
   "metadata": {
    "button": false,
    "deletable": true,
    "run_control": {
     "read_only": false
    }
   },
   "source": [
    "void play_tone(int volume)\n",
    "{\n",
    "    analogWrite(???, ???);\n",
    "    delay(1);\n",
    "    analogWrite(???, ???);\n",
    "}"
   ]
  },
  {
   "cell_type": "markdown",
   "metadata": {
    "button": false,
    "deletable": true,
    "run_control": {
     "read_only": false
    }
   },
   "source": [
    "<h1> Exercise 4: Serial Communication</h1>"
   ]
  },
  {
   "cell_type": "markdown",
   "metadata": {
    "button": false,
    "deletable": true,
    "run_control": {
     "read_only": false
    }
   },
   "source": [
    "Often, we will want to communicate with a microcontroller. We can use the Serial protocol to do so. This protocol uses two pins (RX, connected to pin 0 and TX, connected to pin 1) to communicate via the USB port. The Arduino IDE has a built in Serial monitor which allows us to read and write data on this connection in real time. For more details on the Serial protocol, you can go [here](https://learn.sparkfun.com/tutorials/serial-communication/all#serial-intro). For a list of functions available on the 32u4, you can go [here](https://www.arduino.cc/reference/en/language/functions/communication/serial/). \n",
    "\n",
    "To use the Serial connection, we must first initialise it and tell it the baud rate (Number of bits / second) the connection should use. A good place to do this is in the setup() function. We can then use the connection to send messages back to our PC by calling the function Serial.println() . Paste the following code into your sketch:\n",
    "\n"
   ]
  },
  {
   "cell_type": "raw",
   "metadata": {
    "button": false,
    "deletable": true,
    "run_control": {
     "read_only": false
    }
   },
   "source": [
    "#define BAUD_RATE 9600\n",
    "\n",
    "void flash_leds ()\n",
    "{\n",
    "  digitalWrite(LED_BUILTIN, HIGH);   // turn the LED on (HIGH is the voltage level)\n",
    "  delay(1000);                       // wait for a second\n",
    "  digitalWrite(LED_BUILTIN, LOW);    // turn the LED off by making the voltage LOW\n",
    "  delay(1000); \n",
    "}\n",
    "\n",
    "// the setup function runs once when you press reset or power the board\n",
    "void setup()\n",
    "{\n",
    "  // initialize digital pin LED_BUILTIN as an output.\n",
    "  pinMode(LED_BUILTIN, OUTPUT);\n",
    "  //Start a serial connection\n",
    "  Serial.begin(BAUD_RATE);\n",
    "}\n",
    "\n",
    "// the loop function runs over and over again forever\n",
    "void loop()\n",
    "{\n",
    "  flash_leds();                     // wait for a second\n",
    "  Serial.println(\"Hello, from the Romi\");\n",
    "}"
   ]
  },
  {
   "cell_type": "markdown",
   "metadata": {
    "button": false,
    "deletable": true,
    "run_control": {
     "read_only": false
    }
   },
   "source": [
    "This should look the same as our LED flashing code from exercise 2, but we have added three new lines. On line 1, we define our baud rate `#define BAUD_RATE 9600`. On line 17, we start the Serial connection with `Serial.begin(BAUD_RATE)`. On line 24, we have the line `Serial.println(\"Hello, from the Romi\");`. You can open the Serial monitor on the Arduino IDE via:\n",
    "\n",
    "    Tools --> Serial Monitor \n",
    "\n",
    "or by pressing `CTRL` + `Shift` + `M`. If you set the baud rate on the serial monitor to 9600, you should see the message from the Romi printed out. \n",
    "\n",
    "<h3> Tasks</h3>\n",
    "    1. Change the message the Romi prints\n",
    "    2. Change the code so that the Romi prints out the number of times the LED has flashed\n",
    "    \n",
    "Hint: You can call Serial.println() with a variable and it should automatically convert it to ASCII. You can also use Serial.print() to not automatically create a new line in the monitor. In this case, you can build up a string of characters, by writing for example:\n",
    "\n",
    "`Serial.print(\"Number of flashes: \");`\n",
    "\n",
    "`Serial.println(number_of_flashes);`\n",
    "\n",
    "You can also read data from the Serial monitor. To do so, we use the function `Serial.read()`. This will get one byte from the Serial monitor. For example, we could write in our main loop:"
   ]
  },
  {
   "cell_type": "raw",
   "metadata": {
    "button": false,
    "deletable": true,
    "run_control": {
     "read_only": false
    }
   },
   "source": [
    "#define BAUD_RATE 9600\n",
    "\n",
    "void flash_leds ()\n",
    "{\n",
    "  digitalWrite(LED_BUILTIN, HIGH);   // turn the LED on (HIGH is the voltage level)\n",
    "  delay(1000);                       // wait for a second\n",
    "  digitalWrite(LED_BUILTIN, LOW);    // turn the LED off by making the voltage LOW\n",
    "  delay(1000); \n",
    "}\n",
    "\n",
    "// the setup function runs once when you press reset or power the board\n",
    "void setup()\n",
    "{\n",
    "  // initialize digital pin LED_BUILTIN as an output.\n",
    "  pinMode(LED_BUILTIN, OUTPUT);\n",
    "  //Start a serial connection\n",
    "  Serial.begin(BAUD_RATE);\n",
    "}\n",
    "\n",
    "// the loop function runs over and over again forever\n",
    "void loop()\n",
    "{\n",
    "  if (Serial.available()) //This line checks whether there is anything to read\n",
    "  {\n",
    "      char inChar = Serial.read() //This reads one byte\n",
    "      \n",
    "      if (inChar =='s')\n",
    "      {\n",
    "          Serial.println(\"Got s\");\n",
    "      }\n",
    "  }\n",
    "}\n"
   ]
  },
  {
   "cell_type": "markdown",
   "metadata": {
    "button": false,
    "deletable": true,
    "run_control": {
     "read_only": false
    }
   },
   "source": [
    "This will cause the Romi to respond whenever we type the character 's' on the Serial monitor. \n",
    "\n",
    "<h3> Task </h3>\n",
    "    1. Modify the code above to flash an LED whenever the character 'l' is received.\n",
    "    2. Modify the code above so that the character 'r' toggles repeated flashing.\n",
    "    \n",
    "Hint: You may want to use a boolean variable for task 2.\n",
    "\n",
    "Finally, it is often useful to see a plot of data produced by our system. The Arduino IDE comes with a built in plotter to do jus that. If we print a number we can see it plotted by pressing `Ctrl` + `Shift` + `P`. \n",
    "\n",
    "<h3> Task </h3>\n",
    "    1. Using the code from exercise 2, print and visualise the number of times your LED has flashed. "
   ]
  },
  {
   "cell_type": "code",
   "execution_count": null,
   "metadata": {
    "button": false,
    "collapsed": true,
    "deletable": true,
    "run_control": {
     "read_only": false
    }
   },
   "outputs": [],
   "source": []
  }
 ],
 "metadata": {
  "kernelspec": {
   "display_name": "Python 3",
   "language": "python",
   "name": "python3"
  },
  "language_info": {
   "codemirror_mode": {
    "name": "ipython",
    "version": 3
   },
   "file_extension": ".py",
   "mimetype": "text/x-python",
   "name": "python",
   "nbconvert_exporter": "python",
   "pygments_lexer": "ipython3",
   "version": "3.5.0"
  }
 },
 "nbformat": 4,
 "nbformat_minor": 2
}
